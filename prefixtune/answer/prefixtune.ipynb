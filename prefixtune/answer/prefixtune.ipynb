{
 "cells": [
  {
   "cell_type": "markdown",
   "metadata": {},
   "source": [
    "# prefixtune: default program"
   ]
  },
  {
   "cell_type": "code",
   "execution_count": 1,
   "metadata": {},
   "outputs": [
    {
     "name": "stderr",
     "output_type": "stream",
     "text": [
      "/Users/gouttham/NLP_commit/nlpclass-1247-g-nlp_for_cv/hw3/env/lib/python3.9/site-packages/urllib3/__init__.py:35: NotOpenSSLWarning: urllib3 v2 only supports OpenSSL 1.1.1+, currently the 'ssl' module is compiled with 'LibreSSL 2.8.3'. See: https://github.com/urllib3/urllib3/issues/3020\n",
      "  warnings.warn(\n",
      "/Users/gouttham/NLP_commit/nlpclass-1247-g-nlp_for_cv/hw3/env/lib/python3.9/site-packages/tqdm/auto.py:21: TqdmWarning: IProgress not found. Please update jupyter and ipywidgets. See https://ipywidgets.readthedocs.io/en/stable/user_install.html\n",
      "  from .autonotebook import tqdm as notebook_tqdm\n"
     ]
    }
   ],
   "source": [
    "from default import *\n",
    "import os, sys"
   ]
  },
  {
   "cell_type": "code",
   "execution_count": null,
   "metadata": {},
   "outputs": [],
   "source": []
  },
  {
   "cell_type": "markdown",
   "metadata": {},
   "source": [
    "## Run the default solution on small"
   ]
  },
  {
   "cell_type": "code",
   "execution_count": 8,
   "metadata": {},
   "outputs": [
    {
     "name": "stderr",
     "output_type": "stream",
     "text": [
      "10it [00:13,  1.36s/it]"
     ]
    },
    {
     "name": "stdout",
     "output_type": "stream",
     "text": [
      "0||  _______________________________________________    The U.S. Department of Homeland Security (DHS) announced today that the U.S. Department of Homeland Security (DHS) announced that the U.S. Department of Homeland Security (DHS\n",
      "1||  ___________________________________________________________________________    The U.S. Department of Justice (DOJ) issued a report on the U.S. Department of Justice (DOJ) has issued a report on the U.S. Department of Justice (DO\n",
      "2||  __________________________________________________________________________    The following is a list of the most common reasons why you should be able to use a VPN on your PC.  1. VPNs The VPN is one of the most popular VPNs in the world\n",
      "3||  __________________________________________   The following is a list of things you need to know about the Apple Watch.  1. What is the Apple Watch? The Apple Watch is a smartwatch. The Apple Watch is a smartwatch. \n",
      "4||  ___________   The US House of Representatives passed a bill Thursday that would legalize marijuana for recreational use in the United States.   The House of Representatives passed a bill Thursday that would legalize marijuana for recreational use in the United States. \n",
      "5||  _______________________________________________    In the past few days, I’ve been trying to figure out how to make it easier for you to use your Android device. I’ve been trying to figure out how to make it easier for\n",
      "6||  _______________________________________________________________________________   The U.S. Department of Homeland Security (DHS) has announced that the National Institutes of Health (NIH) is stepping up its efforts to protect the health and well-being of Americans.   \n",
      "7||  __________________________________________________________________________   The following is the first of a series of articles that will be published in the coming days. The following is the first of a series of articles that will be published in the coming days. The following is the\n",
      "8||  _____________________________________________________   This is the first of a series of posts that I have been working on for the past few days. The first post is going to show you how to create a simple, easy-to-use app that works with\n",
      "9||  _______________________________________________________   The following is a list of the most important things you need to know to know about the Apple iPad Pro.  The following is a list of the most important things you need to know about the Apple iPad Pro.\n"
     ]
    },
    {
     "name": "stderr",
     "output_type": "stream",
     "text": [
      "\n"
     ]
    }
   ],
   "source": [
    "basemodel = 'distilgpt2'\n",
    "table_to_text = TableToText(\"peft\", basemodel=basemodel)\n",
    "model = AutoModelForCausalLM.from_pretrained(basemodel)\n",
    "decoder_output = table_to_text.decode(model, '../data/input/small.txt')\n",
    "print(\"\\n\".join(decoder_output))"
   ]
  },
  {
   "cell_type": "code",
   "execution_count": 7,
   "metadata": {},
   "outputs": [
    {
     "data": {
      "text/plain": [
       "'9||  ____________   This is the first installment of a series of blog posts on the development of a new version of the Linux kernel. This blog post will be a follow-up to this blog post. The Linux kernel is a Linux kernel'"
      ]
     },
     "execution_count": 7,
     "metadata": {},
     "output_type": "execute_result"
    }
   ],
   "source": [
    "decoder_output[-1]"
   ]
  },
  {
   "cell_type": "markdown",
   "metadata": {},
   "source": [
    "Ignore the warnings from the transformers library. They are expected to occur."
   ]
  },
  {
   "cell_type": "markdown",
   "metadata": {},
   "source": [
    "## Evaluate the default output"
   ]
  },
  {
   "cell_type": "markdown",
   "metadata": {},
   "source": [
    "See `bleu.py`"
   ]
  },
  {
   "cell_type": "markdown",
   "metadata": {},
   "source": [
    "## Documentation\n",
    "\n",
    "Write some beautiful documentation of your program here."
   ]
  },
  {
   "cell_type": "markdown",
   "metadata": {},
   "source": [
    "## Analysis\n",
    "\n",
    "Do some analysis of the results. What ideas did you try? What worked and what did not?"
   ]
  }
 ],
 "metadata": {
  "kernelspec": {
   "display_name": "a3",
   "language": "python",
   "name": "a3"
  },
  "language_info": {
   "codemirror_mode": {
    "name": "ipython",
    "version": 3
   },
   "file_extension": ".py",
   "mimetype": "text/x-python",
   "name": "python",
   "nbconvert_exporter": "python",
   "pygments_lexer": "ipython3",
   "version": "3.9.6"
  }
 },
 "nbformat": 4,
 "nbformat_minor": 4
}
